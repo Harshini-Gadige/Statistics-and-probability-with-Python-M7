{
 "cells": [
  {
   "cell_type": "code",
   "execution_count": 42,
   "metadata": {},
   "outputs": [],
   "source": [
    "import pandas as pd\n",
    "import numpy as np\n",
    "import statistics"
   ]
  },
  {
   "cell_type": "code",
   "execution_count": 43,
   "metadata": {},
   "outputs": [],
   "source": [
    "kids = pd.DataFrame()\n",
    "kids['name'] = ['Greg','Marcia','Peter','Jan','Bobby','Cindy','Oliver']\n",
    "kids['age'] = [14,12,11,10,8,6,8]"
   ]
  },
  {
   "cell_type": "code",
   "execution_count": 44,
   "metadata": {},
   "outputs": [
    {
     "name": "stdout",
     "output_type": "stream",
     "text": [
      "Mean:  9.857142857142858\n",
      "Median:  10.0\n",
      "Mode:  8\n",
      "Standard Deviation:  2.734262327610589\n",
      "Variance:  7.476190476190475\n",
      "Standard error : 1.0334540197243194\n"
     ]
    }
   ],
   "source": [
    "print(\"Mean: \",kids['age'].mean())\n",
    "print(\"Median: \",kids['age'].median())\n",
    "print(\"Mode: \",statistics.mode(kids['age']))\n",
    "print(\"Standard Deviation: \",kids['age'].std())\n",
    "print(\"Variance: \",kids['age'].var())\n",
    "print(\"Standard error :\",np.std(kids['age'])/np.sqrt(len(kids['age'])-1))"
   ]
  },
  {
   "cell_type": "code",
   "execution_count": 45,
   "metadata": {},
   "outputs": [],
   "source": [
    "#From the above, I'd choose mean and STD\n"
   ]
  },
  {
   "cell_type": "code",
   "execution_count": 46,
   "metadata": {},
   "outputs": [],
   "source": [
    "new = [14,12,11,10,8,7,8]\n"
   ]
  },
  {
   "cell_type": "code",
   "execution_count": 48,
   "metadata": {},
   "outputs": [
    {
     "name": "stdout",
     "output_type": "stream",
     "text": [
      "Mean:  10.0\n",
      "Median:  10.0\n",
      "Mode:  8\n",
      "Standard Deviation:  2.32992949004287\n",
      "Variance:  5.428571428571429\n",
      "Standard error : 0.951189731211342\n"
     ]
    }
   ],
   "source": [
    "print(\"Mean: \",np.mean(new))\n",
    "print(\"Median: \",np.median(new))\n",
    "print(\"Mode: \",statistics.mode(new))\n",
    "print(\"Standard Deviation: \",np.std(new))\n",
    "print(\"Variance: \",np.var(new))\n",
    "print(\"Standard error :\",np.std(new)/np.sqrt(len(new)-1))"
   ]
  },
  {
   "cell_type": "code",
   "execution_count": 49,
   "metadata": {},
   "outputs": [],
   "source": [
    "#From the new data after changing Cindy's birthday from 6 to 7, Mean and Median are same and Variance is reduced. Hence I'd still choose Mean and STD"
   ]
  },
  {
   "cell_type": "code",
   "execution_count": 50,
   "metadata": {},
   "outputs": [],
   "source": [
    "new2 = [14,12,11,10,8,7,1]"
   ]
  },
  {
   "cell_type": "code",
   "execution_count": 52,
   "metadata": {},
   "outputs": [
    {
     "name": "stdout",
     "output_type": "stream",
     "text": [
      "Mean:  9.0\n",
      "Median:  10.0\n",
      "Standard Deviation:  3.927922024247863\n",
      "Variance:  15.428571428571429\n",
      "Standard error : 1.6035674514745466\n"
     ]
    }
   ],
   "source": [
    "print(\"Mean: \",np.mean(new2))\n",
    "print(\"Median: \",np.median(new2))\n",
    "#print(\"Mode: \",statistics.mode(new2))\n",
    "print(\"Standard Deviation: \",np.std(new2))\n",
    "print(\"Variance: \",np.var(new2))\n",
    "print(\"Standard error :\",np.std(new2)/np.sqrt(len(new2)-1))"
   ]
  },
  {
   "cell_type": "code",
   "execution_count": 53,
   "metadata": {},
   "outputs": [],
   "source": [
    "#After replacing Oliver with Jessica, Variance increased due to the newly added outlier. This would effect mean and hence I'd choose median in this case."
   ]
  },
  {
   "cell_type": "code",
   "execution_count": null,
   "metadata": {},
   "outputs": [],
   "source": []
  }
 ],
 "metadata": {
  "kernelspec": {
   "display_name": "Python 3",
   "language": "python",
   "name": "python3"
  },
  "language_info": {
   "codemirror_mode": {
    "name": "ipython",
    "version": 3
   },
   "file_extension": ".py",
   "mimetype": "text/x-python",
   "name": "python",
   "nbconvert_exporter": "python",
   "pygments_lexer": "ipython3",
   "version": "3.7.3"
  }
 },
 "nbformat": 4,
 "nbformat_minor": 2
}
